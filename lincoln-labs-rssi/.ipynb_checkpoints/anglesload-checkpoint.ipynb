{
 "cells": [
  {
   "cell_type": "code",
   "execution_count": 3,
   "metadata": {},
   "outputs": [
    {
     "data": {
      "text/plain": [
       "<matplotlib.collections.PathCollection at 0x7fe6a68ddc10>"
      ]
     },
     "execution_count": 3,
     "metadata": {},
     "output_type": "execute_result"
    },
    {
     "data": {
      "image/png": "[encoded data removed]",
      "text/plain": [
       "<Figure size 432x288 with 1 Axes>"
      ]
     },
     "metadata": {
      "needs_background": "light"
     },
     "output_type": "display_data"
    },
    {
     "data": {
      "image/png": "[encoded data removed]",
      "text/plain": [
       "<Figure size 432x288 with 1 Axes>"
      ]
     },
     "metadata": {
      "needs_background": "light"
     },
     "output_type": "display_data"
    }
   ],
   "source": [
    "# Data from \"Appadwedula, Swaroop\" <swaroop@ll.mit.edu>\n",
    "\n",
    "import scipy.io\n",
    "import matplotlib.pyplot as plt\n",
    "import numpy as np\n",
    "mat_contents = scipy.io.loadmat('angles.mat')\n",
    "#print(mat_contents)\n",
    "\n",
    "dBms = mat_contents.get('dBms')\n",
    "rssipmffar = mat_contents.get('rssipmffar')\n",
    "rssipmfnear = mat_contents.get('rssipmfnear')\n",
    "\n",
    "plt.figure()\n",
    "plt.plot(dBms,rssipmfnear,'r+')\n",
    "plt.plot(dBms,rssipmffar,'go')\n",
    "\n",
    "plt.figure()\n",
    "rssivals = mat_contents.get('rssivals')\n",
    "distfeet = mat_contents.get('distfeet')\n",
    "y = rssivals\n",
    "x = np.tile(distfeet,(y.shape[1],1))\n",
    "plt.scatter(x,y)"
   ]
  },
  {
   "cell_type": "code",
   "execution_count": 7,
   "metadata": {},
   "outputs": [
    {
     "name": "stdout",
     "output_type": "stream",
     "text": [
      "(1, 8)\n",
      "(8, 37265)\n",
      "(1, 8)\n",
      "(8, 37265)\n"
     ]
    },
    {
     "ename": "IndexError",
     "evalue": "shape mismatch: indexing arrays could not be broadcast together with shapes (8,) (37265,) ",
     "output_type": "error",
     "traceback": [
      "\u001b[0;31m---------------------------------------------------------------------------\u001b[0m",
      "\u001b[0;31mIndexError\u001b[0m                                Traceback (most recent call last)",
      "\u001b[0;32m<ipython-input-7-6c9f9fccbff5>\u001b[0m in \u001b[0;36m<module>\u001b[0;34m\u001b[0m\n\u001b[1;32m     25\u001b[0m   \u001b[0mdist\u001b[0m \u001b[0;34m=\u001b[0m \u001b[0mdistances_quantized\u001b[0m\u001b[0;34m[\u001b[0m\u001b[0mi\u001b[0m\u001b[0;34m]\u001b[0m\u001b[0;34m\u001b[0m\u001b[0;34m\u001b[0m\u001b[0m\n\u001b[1;32m     26\u001b[0m   \u001b[0matten\u001b[0m \u001b[0;34m=\u001b[0m \u001b[0mattenuations_quantized\u001b[0m\u001b[0;34m[\u001b[0m\u001b[0mi\u001b[0m\u001b[0;34m]\u001b[0m\u001b[0;34m\u001b[0m\u001b[0;34m\u001b[0m\u001b[0m\n\u001b[0;32m---> 27\u001b[0;31m   \u001b[0mcounts\u001b[0m\u001b[0;34m[\u001b[0m\u001b[0mdist\u001b[0m\u001b[0;34m,\u001b[0m\u001b[0matten\u001b[0m\u001b[0;34m]\u001b[0m \u001b[0;34m+=\u001b[0m \u001b[0;36m1\u001b[0m\u001b[0;34m\u001b[0m\u001b[0;34m\u001b[0m\u001b[0m\n\u001b[0m\u001b[1;32m     28\u001b[0m \u001b[0;34m\u001b[0m\u001b[0m\n\u001b[1;32m     29\u001b[0m \u001b[0;34m\u001b[0m\u001b[0m\n",
      "\u001b[0;31mIndexError\u001b[0m: shape mismatch: indexing arrays could not be broadcast together with shapes (8,) (37265,) "
     ]
    }
   ],
   "source": [
    "distances = distfeet * 0.3048; # convert to meters\n",
    "# add some fake noise to the distances to make plotting nicer\n",
    "np.random.seed(0)\n",
    "n = len(distances)\n",
    "noise = np.random.normal(loc=0, scale=0.1, size=n)\n",
    "#distances = distances + noise\n",
    "print(distances.shape)\n",
    "\n",
    "attenuations = rssivals;\n",
    "attenuations[attenuations > -40] = -40\n",
    "print(attenuations.shape)\n",
    "\n",
    "max_meters = 15*3\n",
    "distance_bins = np.arange(0, max_meters)\n",
    "distances_quantized = np.digitize(distances, distance_bins)-1\n",
    "\n",
    "attenuation_bins = np.arange(-100, -40)\n",
    "attenuations_quantized = np.digitize(attenuations, attenuation_bins)-1\n",
    "\n",
    "print(distances_quantized.shape)\n",
    "print(attenuations_quantized.shape)\n",
    "\n",
    "counts = np.zeros((len(distance_bins), len(attenuation_bins)))\n",
    "for i in range(len(distances)):\n",
    "  dist = distances_quantized[i]\n",
    "  atten = attenuations_quantized[i]\n",
    "  counts[dist,atten] += 1\n",
    "  \n",
    "\n",
    "\n"
   ]
  },
  {
   "cell_type": "code",
   "execution_count": null,
   "metadata": {},
   "outputs": [],
   "source": [
    "plt.figure(figsize=(20,10));\n",
    "plt.imshow(np.log(counts));\n",
    "plt.colorbar();\n",
    "plt.xlabel('distance (minutes)');\n",
    "plt.ylabel('RSSI (dbM)');\n",
    "plt.xticks(range(0,len(distance_bins)), distance_bins);\n",
    "plt.yticks(range(0,len(attenuation_bins)), attenuation_bins);"
   ]
  },
  {
   "cell_type": "code",
   "execution_count": null,
   "metadata": {},
   "outputs": [],
   "source": []
  }
 ],
 "metadata": {
  "kernelspec": {
   "display_name": "Python 3",
   "language": "python",
   "name": "python3"
  },
  "language_info": {
   "codemirror_mode": {
    "name": "ipython",
    "version": 3
   },
   "file_extension": ".py",
   "mimetype": "text/x-python",
   "name": "python",
   "nbconvert_exporter": "python",
   "pygments_lexer": "ipython3",
   "version": "3.7.6"
  },
  "latex_envs": {
   "LaTeX_envs_menu_present": true,
   "autoclose": false,
   "autocomplete": true,
   "bibliofile": "biblio.bib",
   "cite_by": "apalike",
   "current_citInitial": 1,
   "eqLabelWithNumbers": true,
   "eqNumInitial": 1,
   "hotkeys": {
    "equation": "Ctrl-E",
    "itemize": "Ctrl-I"
   },
   "labels_anchors": false,
   "latex_user_defs": false,
   "report_style_numbering": false,
   "user_envs_cfg": false
  },
  "toc": {
   "base_numbering": 1,
   "nav_menu": {},
   "number_sections": true,
   "sideBar": true,
   "skip_h1_title": false,
   "title_cell": "Table of Contents",
   "title_sidebar": "Contents",
   "toc_cell": false,
   "toc_position": {},
   "toc_section_display": true,
   "toc_window_display": false
  },
  "varInspector": {
   "cols": {
    "lenName": 16,
    "lenType": 16,
    "lenVar": 40
   },
   "kernels_config": {
    "python": {
     "delete_cmd_postfix": "",
     "delete_cmd_prefix": "del ",
     "library": "var_list.py",
     "varRefreshCmd": "print(var_dic_list())"
    },
    "r": {
     "delete_cmd_postfix": ") ",
     "delete_cmd_prefix": "rm(",
     "library": "var_list.r",
     "varRefreshCmd": "cat(var_dic_list()) "
    }
   },
   "types_to_exclude": [
    "module",
    "function",
    "builtin_function_or_method",
    "instance",
    "_Feature"
   ],
   "window_display": false
  }
 },
 "nbformat": 4,
 "nbformat_minor": 2
}
